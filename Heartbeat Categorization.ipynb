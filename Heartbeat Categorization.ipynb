{
 "cells": [
  {
   "cell_type": "markdown",
   "metadata": {},
   "source": [
    "### Library 가져오기"
   ]
  },
  {
   "cell_type": "code",
   "execution_count": 1,
   "metadata": {},
   "outputs": [],
   "source": [
    "import numpy as np\n",
    "import pandas as pd\n",
    "import seaborn as sns\n",
    "import matplotlib.pyplot as plt"
   ]
  },
  {
   "cell_type": "markdown",
   "metadata": {},
   "source": [
    "### 데이터 전처리"
   ]
  },
  {
   "cell_type": "code",
   "execution_count": 2,
   "metadata": {},
   "outputs": [],
   "source": [
    "data = pd.read_csv(\"./data/mitbih_train.csv\", header=None)\n",
    "df = pd.DataFrame(data)"
   ]
  },
  {
   "cell_type": "code",
   "execution_count": 3,
   "metadata": {},
   "outputs": [
    {
     "data": {
      "text/html": [
       "<div>\n",
       "<style scoped>\n",
       "    .dataframe tbody tr th:only-of-type {\n",
       "        vertical-align: middle;\n",
       "    }\n",
       "\n",
       "    .dataframe tbody tr th {\n",
       "        vertical-align: top;\n",
       "    }\n",
       "\n",
       "    .dataframe thead th {\n",
       "        text-align: right;\n",
       "    }\n",
       "</style>\n",
       "<table border=\"1\" class=\"dataframe\">\n",
       "  <thead>\n",
       "    <tr style=\"text-align: right;\">\n",
       "      <th></th>\n",
       "      <th>0</th>\n",
       "      <th>1</th>\n",
       "      <th>2</th>\n",
       "      <th>3</th>\n",
       "      <th>4</th>\n",
       "      <th>5</th>\n",
       "      <th>6</th>\n",
       "      <th>7</th>\n",
       "      <th>8</th>\n",
       "      <th>9</th>\n",
       "      <th>...</th>\n",
       "      <th>178</th>\n",
       "      <th>179</th>\n",
       "      <th>180</th>\n",
       "      <th>181</th>\n",
       "      <th>182</th>\n",
       "      <th>183</th>\n",
       "      <th>184</th>\n",
       "      <th>185</th>\n",
       "      <th>186</th>\n",
       "      <th>187</th>\n",
       "    </tr>\n",
       "  </thead>\n",
       "  <tbody>\n",
       "    <tr>\n",
       "      <th>0</th>\n",
       "      <td>0.977941</td>\n",
       "      <td>0.926471</td>\n",
       "      <td>0.681373</td>\n",
       "      <td>0.245098</td>\n",
       "      <td>0.154412</td>\n",
       "      <td>0.191176</td>\n",
       "      <td>0.151961</td>\n",
       "      <td>0.085784</td>\n",
       "      <td>0.058824</td>\n",
       "      <td>0.049020</td>\n",
       "      <td>...</td>\n",
       "      <td>0.0</td>\n",
       "      <td>0.0</td>\n",
       "      <td>0.0</td>\n",
       "      <td>0.0</td>\n",
       "      <td>0.0</td>\n",
       "      <td>0.0</td>\n",
       "      <td>0.0</td>\n",
       "      <td>0.0</td>\n",
       "      <td>0.0</td>\n",
       "      <td>0.0</td>\n",
       "    </tr>\n",
       "    <tr>\n",
       "      <th>1</th>\n",
       "      <td>0.960114</td>\n",
       "      <td>0.863248</td>\n",
       "      <td>0.461538</td>\n",
       "      <td>0.196581</td>\n",
       "      <td>0.094017</td>\n",
       "      <td>0.125356</td>\n",
       "      <td>0.099715</td>\n",
       "      <td>0.088319</td>\n",
       "      <td>0.074074</td>\n",
       "      <td>0.082621</td>\n",
       "      <td>...</td>\n",
       "      <td>0.0</td>\n",
       "      <td>0.0</td>\n",
       "      <td>0.0</td>\n",
       "      <td>0.0</td>\n",
       "      <td>0.0</td>\n",
       "      <td>0.0</td>\n",
       "      <td>0.0</td>\n",
       "      <td>0.0</td>\n",
       "      <td>0.0</td>\n",
       "      <td>0.0</td>\n",
       "    </tr>\n",
       "    <tr>\n",
       "      <th>2</th>\n",
       "      <td>1.000000</td>\n",
       "      <td>0.659459</td>\n",
       "      <td>0.186486</td>\n",
       "      <td>0.070270</td>\n",
       "      <td>0.070270</td>\n",
       "      <td>0.059459</td>\n",
       "      <td>0.056757</td>\n",
       "      <td>0.043243</td>\n",
       "      <td>0.054054</td>\n",
       "      <td>0.045946</td>\n",
       "      <td>...</td>\n",
       "      <td>0.0</td>\n",
       "      <td>0.0</td>\n",
       "      <td>0.0</td>\n",
       "      <td>0.0</td>\n",
       "      <td>0.0</td>\n",
       "      <td>0.0</td>\n",
       "      <td>0.0</td>\n",
       "      <td>0.0</td>\n",
       "      <td>0.0</td>\n",
       "      <td>0.0</td>\n",
       "    </tr>\n",
       "    <tr>\n",
       "      <th>3</th>\n",
       "      <td>0.925414</td>\n",
       "      <td>0.665746</td>\n",
       "      <td>0.541436</td>\n",
       "      <td>0.276243</td>\n",
       "      <td>0.196133</td>\n",
       "      <td>0.077348</td>\n",
       "      <td>0.071823</td>\n",
       "      <td>0.060773</td>\n",
       "      <td>0.066298</td>\n",
       "      <td>0.058011</td>\n",
       "      <td>...</td>\n",
       "      <td>0.0</td>\n",
       "      <td>0.0</td>\n",
       "      <td>0.0</td>\n",
       "      <td>0.0</td>\n",
       "      <td>0.0</td>\n",
       "      <td>0.0</td>\n",
       "      <td>0.0</td>\n",
       "      <td>0.0</td>\n",
       "      <td>0.0</td>\n",
       "      <td>0.0</td>\n",
       "    </tr>\n",
       "    <tr>\n",
       "      <th>4</th>\n",
       "      <td>0.967136</td>\n",
       "      <td>1.000000</td>\n",
       "      <td>0.830986</td>\n",
       "      <td>0.586854</td>\n",
       "      <td>0.356808</td>\n",
       "      <td>0.248826</td>\n",
       "      <td>0.145540</td>\n",
       "      <td>0.089202</td>\n",
       "      <td>0.117371</td>\n",
       "      <td>0.150235</td>\n",
       "      <td>...</td>\n",
       "      <td>0.0</td>\n",
       "      <td>0.0</td>\n",
       "      <td>0.0</td>\n",
       "      <td>0.0</td>\n",
       "      <td>0.0</td>\n",
       "      <td>0.0</td>\n",
       "      <td>0.0</td>\n",
       "      <td>0.0</td>\n",
       "      <td>0.0</td>\n",
       "      <td>0.0</td>\n",
       "    </tr>\n",
       "  </tbody>\n",
       "</table>\n",
       "<p>5 rows × 188 columns</p>\n",
       "</div>"
      ],
      "text/plain": [
       "        0         1         2         3         4         5         6    \\\n",
       "0  0.977941  0.926471  0.681373  0.245098  0.154412  0.191176  0.151961   \n",
       "1  0.960114  0.863248  0.461538  0.196581  0.094017  0.125356  0.099715   \n",
       "2  1.000000  0.659459  0.186486  0.070270  0.070270  0.059459  0.056757   \n",
       "3  0.925414  0.665746  0.541436  0.276243  0.196133  0.077348  0.071823   \n",
       "4  0.967136  1.000000  0.830986  0.586854  0.356808  0.248826  0.145540   \n",
       "\n",
       "        7         8         9    ...  178  179  180  181  182  183  184  185  \\\n",
       "0  0.085784  0.058824  0.049020  ...  0.0  0.0  0.0  0.0  0.0  0.0  0.0  0.0   \n",
       "1  0.088319  0.074074  0.082621  ...  0.0  0.0  0.0  0.0  0.0  0.0  0.0  0.0   \n",
       "2  0.043243  0.054054  0.045946  ...  0.0  0.0  0.0  0.0  0.0  0.0  0.0  0.0   \n",
       "3  0.060773  0.066298  0.058011  ...  0.0  0.0  0.0  0.0  0.0  0.0  0.0  0.0   \n",
       "4  0.089202  0.117371  0.150235  ...  0.0  0.0  0.0  0.0  0.0  0.0  0.0  0.0   \n",
       "\n",
       "   186  187  \n",
       "0  0.0  0.0  \n",
       "1  0.0  0.0  \n",
       "2  0.0  0.0  \n",
       "3  0.0  0.0  \n",
       "4  0.0  0.0  \n",
       "\n",
       "[5 rows x 188 columns]"
      ]
     },
     "execution_count": 3,
     "metadata": {},
     "output_type": "execute_result"
    }
   ],
   "source": [
    "df.head()"
   ]
  },
  {
   "cell_type": "code",
   "execution_count": 5,
   "metadata": {},
   "outputs": [
    {
     "name": "stdout",
     "output_type": "stream",
     "text": [
      "0 \t-\t 0.0\n",
      "1 \t-\t 0.0\n",
      "2 \t-\t 0.0\n",
      "3 \t-\t 0.0\n",
      "4 \t-\t 0.0\n",
      "5 \t-\t 0.0\n",
      "6 \t-\t 0.0\n",
      "7 \t-\t 0.0\n",
      "8 \t-\t 0.0\n",
      "9 \t-\t 0.0\n",
      "10 \t-\t 0.0\n",
      "11 \t-\t 0.0\n",
      "12 \t-\t 0.0\n",
      "13 \t-\t 0.0\n",
      "14 \t-\t 0.0\n",
      "15 \t-\t 0.0\n",
      "16 \t-\t 0.0\n",
      "17 \t-\t 0.0\n",
      "18 \t-\t 0.0\n",
      "19 \t-\t 0.0\n",
      "20 \t-\t 0.0\n",
      "21 \t-\t 0.0\n",
      "22 \t-\t 0.0\n",
      "23 \t-\t 0.0\n",
      "24 \t-\t 0.0\n",
      "25 \t-\t 0.0\n",
      "26 \t-\t 0.0\n",
      "27 \t-\t 0.0\n",
      "28 \t-\t 0.0\n",
      "29 \t-\t 0.0\n",
      "30 \t-\t 0.0\n",
      "31 \t-\t 0.0\n",
      "32 \t-\t 0.0\n",
      "33 \t-\t 0.0\n",
      "34 \t-\t 0.0\n",
      "35 \t-\t 0.0\n",
      "36 \t-\t 0.0\n",
      "37 \t-\t 0.0\n",
      "38 \t-\t 0.0\n",
      "39 \t-\t 0.0\n",
      "40 \t-\t 0.0\n",
      "41 \t-\t 0.0\n",
      "42 \t-\t 0.0\n",
      "43 \t-\t 0.0\n",
      "44 \t-\t 0.0\n",
      "45 \t-\t 0.0\n",
      "46 \t-\t 0.0\n",
      "47 \t-\t 0.0\n",
      "48 \t-\t 0.0\n",
      "49 \t-\t 0.0\n",
      "50 \t-\t 0.0\n",
      "51 \t-\t 0.0\n",
      "52 \t-\t 0.0\n",
      "53 \t-\t 0.0\n",
      "54 \t-\t 0.0\n",
      "55 \t-\t 0.0\n",
      "56 \t-\t 0.0\n",
      "57 \t-\t 0.0\n",
      "58 \t-\t 0.0\n",
      "59 \t-\t 0.0\n",
      "60 \t-\t 0.0\n",
      "61 \t-\t 0.0\n",
      "62 \t-\t 0.0\n",
      "63 \t-\t 0.0\n",
      "64 \t-\t 0.0\n",
      "65 \t-\t 0.0\n",
      "66 \t-\t 0.0\n",
      "67 \t-\t 0.0\n",
      "68 \t-\t 0.0\n",
      "69 \t-\t 0.0\n",
      "70 \t-\t 0.0\n",
      "71 \t-\t 0.0\n",
      "72 \t-\t 0.0\n",
      "73 \t-\t 0.0\n",
      "74 \t-\t 0.0\n",
      "75 \t-\t 0.0\n",
      "76 \t-\t 0.0\n",
      "77 \t-\t 0.0\n",
      "78 \t-\t 0.0\n",
      "79 \t-\t 0.0\n",
      "80 \t-\t 0.0\n",
      "81 \t-\t 0.0\n",
      "82 \t-\t 0.0\n",
      "83 \t-\t 0.0\n",
      "84 \t-\t 0.0\n",
      "85 \t-\t 0.0\n",
      "86 \t-\t 0.0\n",
      "87 \t-\t 0.0\n",
      "88 \t-\t 0.0\n",
      "89 \t-\t 0.0\n",
      "90 \t-\t 0.0\n",
      "91 \t-\t 0.0\n",
      "92 \t-\t 0.0\n",
      "93 \t-\t 0.0\n",
      "94 \t-\t 0.0\n",
      "95 \t-\t 0.0\n",
      "96 \t-\t 0.0\n",
      "97 \t-\t 0.0\n",
      "98 \t-\t 0.0\n",
      "99 \t-\t 0.0\n",
      "100 \t-\t 0.0\n",
      "101 \t-\t 0.0\n",
      "102 \t-\t 0.0\n",
      "103 \t-\t 0.0\n",
      "104 \t-\t 0.0\n",
      "105 \t-\t 0.0\n",
      "106 \t-\t 0.0\n",
      "107 \t-\t 0.0\n",
      "108 \t-\t 0.0\n",
      "109 \t-\t 0.0\n",
      "110 \t-\t 0.0\n",
      "111 \t-\t 0.0\n",
      "112 \t-\t 0.0\n",
      "113 \t-\t 0.0\n",
      "114 \t-\t 0.0\n",
      "115 \t-\t 0.0\n",
      "116 \t-\t 0.0\n",
      "117 \t-\t 0.0\n",
      "118 \t-\t 0.0\n",
      "119 \t-\t 0.0\n",
      "120 \t-\t 0.0\n",
      "121 \t-\t 0.0\n",
      "122 \t-\t 0.0\n",
      "123 \t-\t 0.0\n",
      "124 \t-\t 0.0\n",
      "125 \t-\t 0.0\n",
      "126 \t-\t 0.0\n",
      "127 \t-\t 0.0\n",
      "128 \t-\t 0.0\n",
      "129 \t-\t 0.0\n",
      "130 \t-\t 0.0\n",
      "131 \t-\t 0.0\n",
      "132 \t-\t 0.0\n",
      "133 \t-\t 0.0\n",
      "134 \t-\t 0.0\n",
      "135 \t-\t 0.0\n",
      "136 \t-\t 0.0\n",
      "137 \t-\t 0.0\n",
      "138 \t-\t 0.0\n",
      "139 \t-\t 0.0\n",
      "140 \t-\t 0.0\n",
      "141 \t-\t 0.0\n",
      "142 \t-\t 0.0\n",
      "143 \t-\t 0.0\n",
      "144 \t-\t 0.0\n",
      "145 \t-\t 0.0\n",
      "146 \t-\t 0.0\n",
      "147 \t-\t 0.0\n",
      "148 \t-\t 0.0\n",
      "149 \t-\t 0.0\n",
      "150 \t-\t 0.0\n",
      "151 \t-\t 0.0\n",
      "152 \t-\t 0.0\n",
      "153 \t-\t 0.0\n",
      "154 \t-\t 0.0\n",
      "155 \t-\t 0.0\n",
      "156 \t-\t 0.0\n",
      "157 \t-\t 0.0\n",
      "158 \t-\t 0.0\n",
      "159 \t-\t 0.0\n",
      "160 \t-\t 0.0\n",
      "161 \t-\t 0.0\n",
      "162 \t-\t 0.0\n",
      "163 \t-\t 0.0\n",
      "164 \t-\t 0.0\n",
      "165 \t-\t 0.0\n",
      "166 \t-\t 0.0\n",
      "167 \t-\t 0.0\n",
      "168 \t-\t 0.0\n",
      "169 \t-\t 0.0\n",
      "170 \t-\t 0.0\n",
      "171 \t-\t 0.0\n",
      "172 \t-\t 0.0\n",
      "173 \t-\t 0.0\n",
      "174 \t-\t 0.0\n",
      "175 \t-\t 0.0\n",
      "176 \t-\t 0.0\n",
      "177 \t-\t 0.0\n",
      "178 \t-\t 0.0\n",
      "179 \t-\t 0.0\n",
      "180 \t-\t 0.0\n",
      "181 \t-\t 0.0\n",
      "182 \t-\t 0.0\n",
      "183 \t-\t 0.0\n",
      "184 \t-\t 0.0\n",
      "185 \t-\t 0.0\n",
      "186 \t-\t 0.0\n",
      "187 \t-\t 0.0\n"
     ]
    }
   ],
   "source": [
    "null_col = []\n",
    "\n",
    "for i in df.columns:\n",
    "    print(i, \"\\t-\\t\", df[i].isna().mean()*100)\n",
    "    if df[i].isna().mean()*100 > 0:\n",
    "        null_col.append(i)"
   ]
  },
  {
   "cell_type": "markdown",
   "metadata": {},
   "source": [
    "- 데이터에 Null 값이 없음을 화인"
   ]
  },
  {
   "cell_type": "code",
   "execution_count": 6,
   "metadata": {},
   "outputs": [
    {
     "data": {
      "text/plain": [
       "<AxesSubplot:xlabel='187', ylabel='count'>"
      ]
     },
     "execution_count": 6,
     "metadata": {},
     "output_type": "execute_result"
    },
    {
     "data": {
      "image/png": "[encoded data removed]",
      "text/plain": [
       "<Figure size 432x288 with 1 Axes>"
      ]
     },
     "metadata": {
      "needs_background": "light"
     },
     "output_type": "display_data"
    }
   ],
   "source": [
    "classes = []\n",
    "sns.countplot(x=187, data=df)"
   ]
  },
  {
   "cell_type": "markdown",
   "metadata": {},
   "source": [
    "- 여기서 데이터가 불균형적으로 이루어져 있고 대부분의 데이터가 Class 0으로 분류되었음을 알 수 있음. 따라서, 정확한 계산을 위해 데이터의 균형을 맞추는 것이 중요함\n",
    "- 데이터 균형을 맞추기 위해 Class 0 으로 분류된 요소를 일부 줄이는 undersampling을 진행해야 함"
   ]
  },
  {
   "cell_type": "code",
   "execution_count": 7,
   "metadata": {},
   "outputs": [],
   "source": [
    "class_1 = df[df[187]==1.0]\n",
    "class_2 = df[df[187]==2.0]\n",
    "class_3 = df[df[187]==3.0]\n",
    "class_4 = df[df[187]==4.0]\n",
    "class_0 = df[df[187]==0.0].sample(n = 8000)"
   ]
  },
  {
   "cell_type": "code",
   "execution_count": 8,
   "metadata": {},
   "outputs": [],
   "source": [
    "new_df = pd.concat([class_0, class_1, class_2, class_3, class_4])"
   ]
  },
  {
   "cell_type": "code",
   "execution_count": 9,
   "metadata": {},
   "outputs": [
    {
     "data": {
      "text/html": [
       "<div>\n",
       "<style scoped>\n",
       "    .dataframe tbody tr th:only-of-type {\n",
       "        vertical-align: middle;\n",
       "    }\n",
       "\n",
       "    .dataframe tbody tr th {\n",
       "        vertical-align: top;\n",
       "    }\n",
       "\n",
       "    .dataframe thead th {\n",
       "        text-align: right;\n",
       "    }\n",
       "</style>\n",
       "<table border=\"1\" class=\"dataframe\">\n",
       "  <thead>\n",
       "    <tr style=\"text-align: right;\">\n",
       "      <th></th>\n",
       "      <th>0</th>\n",
       "      <th>1</th>\n",
       "      <th>2</th>\n",
       "      <th>3</th>\n",
       "      <th>4</th>\n",
       "      <th>5</th>\n",
       "      <th>6</th>\n",
       "      <th>7</th>\n",
       "      <th>8</th>\n",
       "      <th>9</th>\n",
       "      <th>...</th>\n",
       "      <th>178</th>\n",
       "      <th>179</th>\n",
       "      <th>180</th>\n",
       "      <th>181</th>\n",
       "      <th>182</th>\n",
       "      <th>183</th>\n",
       "      <th>184</th>\n",
       "      <th>185</th>\n",
       "      <th>186</th>\n",
       "      <th>187</th>\n",
       "    </tr>\n",
       "  </thead>\n",
       "  <tbody>\n",
       "    <tr>\n",
       "      <th>33810</th>\n",
       "      <td>0.959432</td>\n",
       "      <td>0.991886</td>\n",
       "      <td>0.590264</td>\n",
       "      <td>0.129817</td>\n",
       "      <td>0.016227</td>\n",
       "      <td>0.052738</td>\n",
       "      <td>0.070994</td>\n",
       "      <td>0.075051</td>\n",
       "      <td>0.068966</td>\n",
       "      <td>0.064909</td>\n",
       "      <td>...</td>\n",
       "      <td>0.0</td>\n",
       "      <td>0.0</td>\n",
       "      <td>0.0</td>\n",
       "      <td>0.0</td>\n",
       "      <td>0.0</td>\n",
       "      <td>0.0</td>\n",
       "      <td>0.0</td>\n",
       "      <td>0.0</td>\n",
       "      <td>0.0</td>\n",
       "      <td>0.0</td>\n",
       "    </tr>\n",
       "    <tr>\n",
       "      <th>29108</th>\n",
       "      <td>0.934702</td>\n",
       "      <td>0.809702</td>\n",
       "      <td>0.287313</td>\n",
       "      <td>0.113806</td>\n",
       "      <td>0.044776</td>\n",
       "      <td>0.001866</td>\n",
       "      <td>0.000000</td>\n",
       "      <td>0.024254</td>\n",
       "      <td>0.093284</td>\n",
       "      <td>0.240672</td>\n",
       "      <td>...</td>\n",
       "      <td>0.0</td>\n",
       "      <td>0.0</td>\n",
       "      <td>0.0</td>\n",
       "      <td>0.0</td>\n",
       "      <td>0.0</td>\n",
       "      <td>0.0</td>\n",
       "      <td>0.0</td>\n",
       "      <td>0.0</td>\n",
       "      <td>0.0</td>\n",
       "      <td>0.0</td>\n",
       "    </tr>\n",
       "    <tr>\n",
       "      <th>13973</th>\n",
       "      <td>1.000000</td>\n",
       "      <td>0.927315</td>\n",
       "      <td>0.664713</td>\n",
       "      <td>0.595545</td>\n",
       "      <td>0.575615</td>\n",
       "      <td>0.555686</td>\n",
       "      <td>0.513482</td>\n",
       "      <td>0.493552</td>\n",
       "      <td>0.463072</td>\n",
       "      <td>0.440797</td>\n",
       "      <td>...</td>\n",
       "      <td>0.0</td>\n",
       "      <td>0.0</td>\n",
       "      <td>0.0</td>\n",
       "      <td>0.0</td>\n",
       "      <td>0.0</td>\n",
       "      <td>0.0</td>\n",
       "      <td>0.0</td>\n",
       "      <td>0.0</td>\n",
       "      <td>0.0</td>\n",
       "      <td>0.0</td>\n",
       "    </tr>\n",
       "    <tr>\n",
       "      <th>38461</th>\n",
       "      <td>0.975078</td>\n",
       "      <td>0.816199</td>\n",
       "      <td>0.333333</td>\n",
       "      <td>0.043614</td>\n",
       "      <td>0.068536</td>\n",
       "      <td>0.065421</td>\n",
       "      <td>0.040498</td>\n",
       "      <td>0.028037</td>\n",
       "      <td>0.009346</td>\n",
       "      <td>0.003115</td>\n",
       "      <td>...</td>\n",
       "      <td>0.0</td>\n",
       "      <td>0.0</td>\n",
       "      <td>0.0</td>\n",
       "      <td>0.0</td>\n",
       "      <td>0.0</td>\n",
       "      <td>0.0</td>\n",
       "      <td>0.0</td>\n",
       "      <td>0.0</td>\n",
       "      <td>0.0</td>\n",
       "      <td>0.0</td>\n",
       "    </tr>\n",
       "    <tr>\n",
       "      <th>9507</th>\n",
       "      <td>0.956973</td>\n",
       "      <td>0.836795</td>\n",
       "      <td>0.267062</td>\n",
       "      <td>0.000000</td>\n",
       "      <td>0.250742</td>\n",
       "      <td>0.289318</td>\n",
       "      <td>0.296736</td>\n",
       "      <td>0.305638</td>\n",
       "      <td>0.301187</td>\n",
       "      <td>0.302671</td>\n",
       "      <td>...</td>\n",
       "      <td>0.0</td>\n",
       "      <td>0.0</td>\n",
       "      <td>0.0</td>\n",
       "      <td>0.0</td>\n",
       "      <td>0.0</td>\n",
       "      <td>0.0</td>\n",
       "      <td>0.0</td>\n",
       "      <td>0.0</td>\n",
       "      <td>0.0</td>\n",
       "      <td>0.0</td>\n",
       "    </tr>\n",
       "  </tbody>\n",
       "</table>\n",
       "<p>5 rows × 188 columns</p>\n",
       "</div>"
      ],
      "text/plain": [
       "            0         1         2         3         4         5         6    \\\n",
       "33810  0.959432  0.991886  0.590264  0.129817  0.016227  0.052738  0.070994   \n",
       "29108  0.934702  0.809702  0.287313  0.113806  0.044776  0.001866  0.000000   \n",
       "13973  1.000000  0.927315  0.664713  0.595545  0.575615  0.555686  0.513482   \n",
       "38461  0.975078  0.816199  0.333333  0.043614  0.068536  0.065421  0.040498   \n",
       "9507   0.956973  0.836795  0.267062  0.000000  0.250742  0.289318  0.296736   \n",
       "\n",
       "            7         8         9    ...  178  179  180  181  182  183  184  \\\n",
       "33810  0.075051  0.068966  0.064909  ...  0.0  0.0  0.0  0.0  0.0  0.0  0.0   \n",
       "29108  0.024254  0.093284  0.240672  ...  0.0  0.0  0.0  0.0  0.0  0.0  0.0   \n",
       "13973  0.493552  0.463072  0.440797  ...  0.0  0.0  0.0  0.0  0.0  0.0  0.0   \n",
       "38461  0.028037  0.009346  0.003115  ...  0.0  0.0  0.0  0.0  0.0  0.0  0.0   \n",
       "9507   0.305638  0.301187  0.302671  ...  0.0  0.0  0.0  0.0  0.0  0.0  0.0   \n",
       "\n",
       "       185  186  187  \n",
       "33810  0.0  0.0  0.0  \n",
       "29108  0.0  0.0  0.0  \n",
       "13973  0.0  0.0  0.0  \n",
       "38461  0.0  0.0  0.0  \n",
       "9507   0.0  0.0  0.0  \n",
       "\n",
       "[5 rows x 188 columns]"
      ]
     },
     "execution_count": 9,
     "metadata": {},
     "output_type": "execute_result"
    }
   ],
   "source": [
    "new_df.head()"
   ]
  },
  {
   "cell_type": "code",
   "execution_count": 10,
   "metadata": {},
   "outputs": [
    {
     "data": {
      "text/plain": [
       "<AxesSubplot:xlabel='187', ylabel='count'>"
      ]
     },
     "execution_count": 10,
     "metadata": {},
     "output_type": "execute_result"
    },
    {
     "data": {
      "image/png": "[encoded data removed]",
      "text/plain": [
       "<Figure size 432x288 with 1 Axes>"
      ]
     },
     "metadata": {
      "needs_background": "light"
     },
     "output_type": "display_data"
    }
   ],
   "source": [
    "sns.countplot(x=187, data=new_df)"
   ]
  },
  {
   "cell_type": "markdown",
   "metadata": {},
   "source": [
    "- 이제 각 클래스의 균형이 어느정도 맞춰졌음을 알 수 있음"
   ]
  },
  {
   "cell_type": "code",
   "execution_count": 11,
   "metadata": {},
   "outputs": [
    {
     "data": {
      "image/png": "[encoded data removed]",
      "text/plain": [
       "<Figure size 1800x144 with 5 Axes>"
      ]
     },
     "metadata": {
      "needs_background": "light"
     },
     "output_type": "display_data"
    }
   ],
   "source": [
    "index = 0\n",
    "fig, ax = plt.subplots(nrows = 1, ncols = 5, figsize=(25, 2))\n",
    "\n",
    "for i in range(5):\n",
    "    ax[i].plot(new_df[new_df[187] == float(i)].sample(1).iloc[0, :186])\n",
    "    ax[i].set_title(\"Class: \" + str(i))"
   ]
  },
  {
   "cell_type": "markdown",
   "metadata": {},
   "source": [
    "- 이제 데이터를 훈련, 테스트셋으로 나눔"
   ]
  },
  {
   "cell_type": "code",
   "execution_count": 22,
   "metadata": {},
   "outputs": [],
   "source": [
    "from sklearn.model_selection import train_test_split\n",
    "\n",
    "X_train, X_test, y_train, y_test = train_test_split(new_df.drop([187], axis=1), new_df[187], test_size = 0.1)"
   ]
  },
  {
   "cell_type": "code",
   "execution_count": 23,
   "metadata": {},
   "outputs": [],
   "source": [
    "X_train = np.array(X_train).reshape(X_train.shape[0], X_train.shape[1], 1)\n",
    "X_test = np.array(X_test).reshape(X_test.shape[0], X_test.shape[1], 1)"
   ]
  },
  {
   "cell_type": "code",
   "execution_count": 25,
   "metadata": {},
   "outputs": [],
   "source": [
    "from tensorflow.keras import Sequential,utils\n",
    "from tensorflow.keras.layers import Flatten, Dense, Conv1D, MaxPool1D, Dropout"
   ]
  },
  {
   "cell_type": "code",
   "execution_count": 26,
   "metadata": {},
   "outputs": [],
   "source": [
    "clf = Sequential()\n",
    "\n",
    "clf.add(Conv1D(filters=32, kernel_size=(3,), padding='same', activation='relu', input_shape = (X_train.shape[1],1)))\n",
    "clf.add(Conv1D(filters=64, kernel_size=(3,), padding='same', activation='relu')) \n",
    "clf.add(Conv1D(filters=128, kernel_size=(5,), padding='same', activation='relu'))    \n",
    "\n",
    "clf.add(MaxPool1D(pool_size=(3,), strides=2, padding='same'))\n",
    "clf.add(Dropout(0.5))\n",
    "\n",
    "clf.add(Flatten())\n",
    "\n",
    "clf.add(Dense(units = 512, activation='relu'))\n",
    "clf.add(Dense(units = 1024, activation='relu'))\n",
    "\n",
    "clf.add(Dense(units = 5, activation='softmax'))"
   ]
  },
  {
   "cell_type": "code",
   "execution_count": 27,
   "metadata": {},
   "outputs": [],
   "source": [
    "clf.compile(optimizer='adam', loss = 'sparse_categorical_crossentropy', metrics=['accuracy'])"
   ]
  },
  {
   "cell_type": "code",
   "execution_count": 29,
   "metadata": {},
   "outputs": [
    {
     "name": "stdout",
     "output_type": "stream",
     "text": [
      "Train on 20774 samples\n",
      "Epoch 1/10\n",
      "20774/20774 [==============================] - 47s 2ms/sample - loss: 0.3832 - accuracy: 0.8659\n",
      "Epoch 2/10\n",
      "20774/20774 [==============================] - 50s 2ms/sample - loss: 0.2020 - accuracy: 0.9323\n",
      "Epoch 3/10\n",
      "20774/20774 [==============================] - 48s 2ms/sample - loss: 0.1580 - accuracy: 0.9455\n",
      "Epoch 4/10\n",
      "20774/20774 [==============================] - 49s 2ms/sample - loss: 0.1212 - accuracy: 0.9592\n",
      "Epoch 5/10\n",
      "20774/20774 [==============================] - 49s 2ms/sample - loss: 0.1052 - accuracy: 0.9639\n",
      "Epoch 6/10\n",
      "20774/20774 [==============================] - 52s 2ms/sample - loss: 0.0874 - accuracy: 0.9684\n",
      "Epoch 7/10\n",
      "20774/20774 [==============================] - 49s 2ms/sample - loss: 0.0721 - accuracy: 0.9747\n",
      "Epoch 8/10\n",
      "20774/20774 [==============================] - 51s 2ms/sample - loss: 0.0673 - accuracy: 0.9759\n",
      "Epoch 9/10\n",
      "20774/20774 [==============================] - 51s 2ms/sample - loss: 0.0559 - accuracy: 0.9797\n",
      "Epoch 10/10\n",
      "20774/20774 [==============================] - 51s 2ms/sample - loss: 0.0496 - accuracy: 0.9828\n"
     ]
    }
   ],
   "source": [
    "y_train = np.asarray(y_train)\n",
    "history = clf.fit(X_train, y_train, epochs = 10)"
   ]
  },
  {
   "cell_type": "code",
   "execution_count": 30,
   "metadata": {},
   "outputs": [],
   "source": [
    "y_pred = clf.predict(X_test)"
   ]
  },
  {
   "cell_type": "code",
   "execution_count": 31,
   "metadata": {},
   "outputs": [
    {
     "data": {
      "image/png": "[encoded data removed]",
      "text/plain": [
       "<Figure size 432x288 with 1 Axes>"
      ]
     },
     "metadata": {
      "needs_background": "light"
     },
     "output_type": "display_data"
    }
   ],
   "source": [
    "acc = history.history['accuracy']\n",
    "epochs = range(1, len(acc) + 1)\n",
    "plt.plot(epochs, acc, color='red', label='Training acc')\n",
    "plt.title('Training Accuracy')\n",
    "plt.xlabel('Epochs')\n",
    "plt.ylabel('Loss')\n",
    "plt.show()"
   ]
  },
  {
   "cell_type": "code",
   "execution_count": 32,
   "metadata": {},
   "outputs": [
    {
     "data": {
      "text/plain": [
       "<AxesSubplot:>"
      ]
     },
     "execution_count": 32,
     "metadata": {},
     "output_type": "execute_result"
    },
    {
     "data": {
      "image/png": "[encoded data removed]",
      "text/plain": [
       "<Figure size 504x504 with 2 Axes>"
      ]
     },
     "metadata": {
      "needs_background": "light"
     },
     "output_type": "display_data"
    }
   ],
   "source": [
    "from sklearn.metrics import confusion_matrix\n",
    "\n",
    "y_lbl = [np.where(i == np.max(i))[0][0] for i in y_pred]\n",
    "mat = confusion_matrix(y_test, y_lbl)\n",
    "fig, ax = plt.subplots(figsize=(7,7))\n",
    "sns.heatmap(mat, annot = True)"
   ]
  },
  {
   "cell_type": "code",
   "execution_count": 33,
   "metadata": {},
   "outputs": [
    {
     "name": "stdout",
     "output_type": "stream",
     "text": [
      "Accuracy score of the predictions: 0.964053702901689\n"
     ]
    }
   ],
   "source": [
    "from sklearn import metrics\n",
    "\n",
    "print(\"Accuracy score of the predictions: {0}\".format(metrics.accuracy_score(y_lbl, y_test)))"
   ]
  },
  {
   "cell_type": "code",
   "execution_count": null,
   "metadata": {},
   "outputs": [],
   "source": []
  }
 ],
 "metadata": {
  "kernelspec": {
   "display_name": "Python 3",
   "language": "python",
   "name": "python3"
  },
  "language_info": {
   "codemirror_mode": {
    "name": "ipython",
    "version": 3
   },
   "file_extension": ".py",
   "mimetype": "text/x-python",
   "name": "python",
   "nbconvert_exporter": "python",
   "pygments_lexer": "ipython3",
   "version": "3.7.7"
  }
 },
 "nbformat": 4,
 "nbformat_minor": 4
}
